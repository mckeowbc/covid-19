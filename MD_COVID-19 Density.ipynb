{
 "cells": [
  {
   "cell_type": "code",
   "execution_count": null,
   "metadata": {},
   "outputs": [],
   "source": [
    "import geopandas as gpd\n",
    "import pandas as pd\n",
    "import matplotlib.pyplot as plt\n",
    "import numpy as np\n",
    "import requests\n",
    "import datetime\n",
    "from mpl_toolkits.axes_grid1 import make_axes_locatable"
   ]
  },
  {
   "cell_type": "code",
   "execution_count": null,
   "metadata": {},
   "outputs": [],
   "source": [
    "md_zip_ranges = [\n",
    "    (20331,20331),\n",
    "    (20335,20797),\n",
    "    (20812,21930)\n",
    "]\n",
    "\n",
    "md_cities = pd.DataFrame(\n",
    "    {'City':      ['Baltimore','Annapolis','Hagerstown','Frederick', 'Ft. Meade',\n",
    "                   'Salisbury', 'Ocean City', 'Bethesda', 'Cumberland', 'College Park'],\n",
    "     'Latitude':  [39.289452,    38.978132,  39.642500,  39.4141457, 39.1038739, \n",
    "                   38.3654624, 38.332159, 38.984372, 39.648437, 38.9897],\n",
    "     'Longitude': [-76.613124,  -76.488142, -77.718646, -77.4092184,-76.742847, \n",
    "                   -75.5983227, -75.087294, -77.094755, -78.762657, -76.9378]\n",
    "    }\n",
    ")\n",
    "\n",
    "cities_df = gpd.GeoDataFrame(\n",
    "    md_cities, geometry=gpd.points_from_xy(md_cities.Longitude, md_cities.Latitude))\n",
    "\n",
    "md_zips = ['%05d' % zipc for zip_range in md_zip_ranges\n",
    "                     for zipc in range(zip_range[0],zip_range[1]+1)]\n",
    "\n",
    "cases = pd.DataFrame(\n",
    "    [np.NaN for _ in range(len(md_zips))],\n",
    "    index=md_zips,\n",
    "    columns=['cases']\n",
    ")\n"
   ]
  },
  {
   "cell_type": "markdown",
   "metadata": {},
   "source": [
    "# MD County COVID-19 Cases By Zip Code"
   ]
  },
  {
   "cell_type": "code",
   "execution_count": null,
   "metadata": {},
   "outputs": [],
   "source": [
    "zips_json = requests.get('https://services.arcgis.com/njFNhDsUCentVYJW/arcgis/rest/services/ZIPCodes_MD_1/FeatureServer/0/query?f=json&where=ProtectedCount%3E%3D8&returnGeometry=false&spatialRel=esriSpatialRelIntersects&outFields=*&orderByFields=ZIPCODE1%20asc&resultOffset=0&resultRecordCount=300&cacheHint=true')\n",
    "current_cases_d = dict((x['attributes']['ZIPCODE1'],x['attributes']['ProtectedCount'])\n",
    "                        for x in zips_json.json()['features'])\n",
    "\n",
    "current_cases = pd.DataFrame(\n",
    "    current_cases_d.values(),\n",
    "    index=current_cases_d.keys(),\n",
    "    columns=['cases'])\n",
    "current_cases"
   ]
  },
  {
   "cell_type": "code",
   "execution_count": null,
   "metadata": {},
   "outputs": [],
   "source": [
    "cases.update(current_cases)\n",
    "cases[cases['cases'].notnull()]"
   ]
  },
  {
   "cell_type": "markdown",
   "metadata": {},
   "source": [
    "Loading 2010 census data by zip code.  Data is broken down by age range and gender.  Summary rows have no gender.\n",
    "\n",
    "population,minimum_age,maximum_age,gender,zipcode,geo_id"
   ]
  },
  {
   "cell_type": "code",
   "execution_count": null,
   "metadata": {},
   "outputs": [],
   "source": [
    "pop = pd.read_csv('population_by_zip_2010.csv',dtype={'zipcode': str})\n",
    "pop['ZIPCODE'] = pop['zipcode']\n",
    "pop.set_index('ZIPCODE')\n",
    "\n",
    "print(type(pop['ZIPCODE'].values[0]))\n",
    "pop = pop[(pop['gender'] != 'male') & (pop['gender'] != 'female')]"
   ]
  },
  {
   "cell_type": "markdown",
   "metadata": {},
   "source": [
    "Merge case data for Anne Arundel county with population"
   ]
  },
  {
   "cell_type": "code",
   "execution_count": null,
   "metadata": {
    "scrolled": true
   },
   "outputs": [],
   "source": [
    "pop_cases = cases.merge(pop,left_on=cases.index,right_on='ZIPCODE')\n",
    "pop_cases.loc[pop_cases.ZIPCODE == '20740']"
   ]
  },
  {
   "cell_type": "markdown",
   "metadata": {},
   "source": [
    "Read zip codes geo file and merge with population data"
   ]
  },
  {
   "cell_type": "code",
   "execution_count": null,
   "metadata": {
    "scrolled": false
   },
   "outputs": [],
   "source": [
    "zips = gpd.read_file('cb_2018_us_zcta510_500k.shp')\n",
    "zips['ZIPCODE'] = zips['ZCTA5CE10']\n",
    "zips.set_index('ZIPCODE')\n",
    "zips = zips.merge(pop_cases,on='ZIPCODE',how='inner')\n",
    "zips"
   ]
  },
  {
   "cell_type": "markdown",
   "metadata": {},
   "source": [
    "# Cases per 1,000"
   ]
  },
  {
   "cell_type": "code",
   "execution_count": null,
   "metadata": {},
   "outputs": [],
   "source": [
    "zips['density'] = zips['cases'] / (zips['population'] / 1_000)\n",
    "zips.set_index('ZIPCODE')\n",
    "print(zips[zips.density.notnull()][['ZIPCODE','density','cases','population']].sort_values('density').tail())"
   ]
  },
  {
   "cell_type": "code",
   "execution_count": null,
   "metadata": {},
   "outputs": [],
   "source": [
    "print(zips[zips.zipcode == '20740']['geometry'])"
   ]
  },
  {
   "cell_type": "code",
   "execution_count": null,
   "metadata": {},
   "outputs": [],
   "source": [
    "top5_zips = pd.DataFrame(\n",
    "    {'City':      [],\n",
    "     'Latitude':  [],\n",
    "     'Longitude': []\n",
    "    }\n",
    ")\n",
    "\n",
    "zip_names = dict((x['attributes']['ZIPCODE1'], x['attributes']['ZIPName'])\n",
    "                        for x in zips_json.json()['features'])\n",
    "\n",
    "for index, row in (zips[zips.density.notnull()][['ZIPCODE','density','cases','population']].sort_values('density').tail()).iterrows():\n",
    "    city = zip_names[row['ZIPCODE']]\n",
    "    point = zips[zips.zipcode == row['ZIPCODE']]['geometry'].centroid\n",
    "    \n",
    "    # this is an ugly hack to go back to lat and long\n",
    "    point_str = str(point).split()\n",
    "    long = float(point_str[2][1:])\n",
    "    lat = float(point_str[3][:-1])\n",
    "    #print ({'City':city, 'Latitude':lat, 'Longitude':long})\n",
    "    top5_zips = top5_zips.append({'City':city, 'Latitude':lat, 'Longitude':long}, ignore_index=True) \n",
    "    \n",
    "top5_zips_df = gpd.GeoDataFrame(\n",
    "    top5_zips, geometry=gpd.points_from_xy(top5_zips.Longitude, top5_zips.Latitude))\n",
    "\n",
    "print (top5_zips_df)\n"
   ]
  },
  {
   "cell_type": "code",
   "execution_count": null,
   "metadata": {
    "scrolled": false
   },
   "outputs": [],
   "source": [
    "fig, ax = plt.subplots(1, 1, figsize=(64,32))\n",
    "divider = make_axes_locatable(ax)\n",
    "cax = divider.append_axes(\"bottom\", size=\"5%\", pad=0.1)\n",
    "zplot = zips.plot(column='density',\n",
    "                  legend=True,\n",
    "                  figsize=(16,12),\n",
    "                  ax=ax, cax=cax,\n",
    "                  legend_kwds={\n",
    "                    'label': \"Cases / 1000\",\n",
    "                    'orientation': \"horizontal\"  \n",
    "                  },\n",
    "                  missing_kwds={\n",
    "                      \"color\": \"lightgrey\",\n",
    "                      \"label\": \"Missing values\"\n",
    "                  })\n",
    "\n",
    "\n",
    "cities_plot = cities_df.plot(ax=zplot,marker='o',color='white',markersize=15)\n",
    "_ = cities_df.apply(lambda x: cities_plot.annotate(s=x.City, \n",
    "                                                   xy=x.geometry.centroid.coords[0], \n",
    "                                                   ha='center', color='white'),\n",
    "                    axis=1)\n",
    "\n",
    "cities_plot = top5_zips_df.plot(ax=zplot,marker='o',color='red',markersize=10)\n",
    "_ = top5_zips_df.apply(lambda x: cities_plot.annotate(s=x.City, \n",
    "                                                   xy=x.geometry.centroid.coords[0], \n",
    "                                                   ha='center', color='red'),\n",
    "                    axis=1)\n",
    "today = datetime.date.today().strftime('%Y-%m-%d')\n",
    "\n",
    "plt.savefig('%s-MD-density.png' % today)"
   ]
  },
  {
   "cell_type": "code",
   "execution_count": null,
   "metadata": {
    "scrolled": true
   },
   "outputs": [],
   "source": [
    "\n"
   ]
  }
 ],
 "metadata": {
  "kernelspec": {
   "display_name": "Python 3",
   "language": "python",
   "name": "python3"
  },
  "language_info": {
   "codemirror_mode": {
    "name": "ipython",
    "version": 3
   },
   "file_extension": ".py",
   "mimetype": "text/x-python",
   "name": "python",
   "nbconvert_exporter": "python",
   "pygments_lexer": "ipython3",
   "version": "3.7.6"
  }
 },
 "nbformat": 4,
 "nbformat_minor": 2
}
